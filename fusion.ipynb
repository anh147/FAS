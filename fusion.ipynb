{
 "cells": [
  {
   "cell_type": "code",
   "execution_count": 1,
   "metadata": {},
   "outputs": [
    {
     "name": "stderr",
     "output_type": "stream",
     "text": [
      "C:\\Users\\anhpn\\AppData\\Local\\Packages\\PythonSoftwareFoundation.Python.3.10_qbz5n2kfra8p0\\LocalCache\\local-packages\\Python310\\site-packages\\tqdm\\auto.py:22: TqdmWarning: IProgress not found. Please update jupyter and ipywidgets. See https://ipywidgets.readthedocs.io/en/stable/user_install.html\n",
      "  from .autonotebook import tqdm as notebook_tqdm\n"
     ]
    }
   ],
   "source": [
    "from transformers import AutoFeatureExtractor, AutoModelForImageClassification"
   ]
  },
  {
   "cell_type": "code",
   "execution_count": 2,
   "metadata": {},
   "outputs": [
    {
     "name": "stderr",
     "output_type": "stream",
     "text": [
      "C:\\Users\\anhpn\\AppData\\Local\\Packages\\PythonSoftwareFoundation.Python.3.10_qbz5n2kfra8p0\\LocalCache\\local-packages\\Python310\\site-packages\\transformers\\models\\convnext\\feature_extraction_convnext.py:28: FutureWarning: The class ConvNextFeatureExtractor is deprecated and will be removed in version 5 of Transformers. Please use ConvNextImageProcessor instead.\n",
      "  warnings.warn(\n"
     ]
    }
   ],
   "source": [
    "feature_extractor = AutoFeatureExtractor.from_pretrained(\"facebook/convnext-tiny-224\")\n"
   ]
  },
  {
   "cell_type": "code",
   "execution_count": 3,
   "metadata": {},
   "outputs": [
    {
     "data": {
      "text/plain": [
       "(224, 224, 3)"
      ]
     },
     "execution_count": 3,
     "metadata": {},
     "output_type": "execute_result"
    }
   ],
   "source": [
    "from PIL import Image\n",
    "import numpy as np\n",
    "img = Image.open(r\"resize.png\")\n",
    "np.array(img).shape\n"
   ]
  },
  {
   "cell_type": "code",
   "execution_count": 4,
   "metadata": {},
   "outputs": [
    {
     "name": "stdout",
     "output_type": "stream",
     "text": [
      "torch.Size([1, 3, 224, 224])\n",
      "tensor([[[[ 1.7694,  1.7694,  1.7523,  ...,  1.0331,  1.0331,  1.0331],\n",
      "          [ 1.7694,  1.7523,  1.7523,  ...,  1.0331,  1.0331,  1.0331],\n",
      "          [ 1.7694,  1.7523,  1.7523,  ...,  1.0331,  1.0331,  1.0331],\n",
      "          ...,\n",
      "          [-0.6794, -0.5938, -0.6109,  ...,  1.9578,  1.9749,  1.9578],\n",
      "          [-0.7993, -0.8164, -0.6965,  ...,  1.9407,  1.9578,  1.9407],\n",
      "          [-0.9363, -0.9020, -0.6452,  ...,  1.7352,  1.8722,  1.9235]],\n",
      "\n",
      "         [[ 2.1134,  2.1134,  2.0959,  ...,  1.3431,  1.3431,  1.3431],\n",
      "          [ 2.1134,  2.0959,  2.0959,  ...,  1.3431,  1.3431,  1.3431],\n",
      "          [ 2.1134,  2.0959,  2.0959,  ...,  1.3431,  1.3431,  1.3431],\n",
      "          ...,\n",
      "          [-0.9678, -0.8978, -0.9153,  ...,  1.5532,  1.5707,  1.5707],\n",
      "          [-1.0903, -1.1078, -1.0203,  ...,  1.4832,  1.5007,  1.5007],\n",
      "          [-1.2129, -1.1954, -0.9678,  ...,  1.2206,  1.3431,  1.4307]],\n",
      "\n",
      "         [[ 2.4308,  2.4308,  2.4134,  ...,  1.7511,  1.7511,  1.7685],\n",
      "          [ 2.4308,  2.4134,  2.4134,  ...,  1.7511,  1.7511,  1.7685],\n",
      "          [ 2.4308,  2.4134,  2.4134,  ...,  1.7511,  1.7511,  1.7685],\n",
      "          ...,\n",
      "          [-1.0027, -0.9853, -1.0724,  ...,  0.4788,  0.5136,  0.4788],\n",
      "          [-1.1247, -1.1770, -1.1421,  ...,  0.4265,  0.4962,  0.4614],\n",
      "          [-1.2293, -1.2293, -1.0550,  ...,  0.2696,  0.3916,  0.4439]]]])\n"
     ]
    }
   ],
   "source": [
    "pixel_values = feature_extractor(img.convert(\"RGB\"), return_tensors=\"pt\").pixel_values\n",
    "print(pixel_values.shape)\n",
    "print(pixel_values)"
   ]
  },
  {
   "cell_type": "code",
   "execution_count": 5,
   "metadata": {},
   "outputs": [
    {
     "data": {
      "text/plain": [
       "torch.Size([150528])"
      ]
     },
     "execution_count": 5,
     "metadata": {},
     "output_type": "execute_result"
    }
   ],
   "source": [
    "import torch\n",
    "torch.flatten(pixel_values).shape"
   ]
  },
  {
   "attachments": {},
   "cell_type": "markdown",
   "metadata": {},
   "source": [
    "Load data\n"
   ]
  },
  {
   "cell_type": "code",
   "execution_count": 9,
   "metadata": {},
   "outputs": [
    {
     "ename": "ImportError",
     "evalue": "cannot import name 'ImageFolder' from 'dataset' (C:\\Users\\anhpn\\AppData\\Local\\Packages\\PythonSoftwareFoundation.Python.3.10_qbz5n2kfra8p0\\LocalCache\\local-packages\\Python310\\site-packages\\dataset\\__init__.py)",
     "output_type": "error",
     "traceback": [
      "\u001b[1;31m---------------------------------------------------------------------------\u001b[0m",
      "\u001b[1;31mImportError\u001b[0m                               Traceback (most recent call last)",
      "\u001b[1;32md:\\VDT2023\\ProjectP1\\FAS\\fusion.ipynb Cell 7\u001b[0m in \u001b[0;36m<cell line: 3>\u001b[1;34m()\u001b[0m\n\u001b[0;32m      <a href='vscode-notebook-cell:/d%3A/VDT2023/ProjectP1/FAS/fusion.ipynb#X14sZmlsZQ%3D%3D?line=0'>1</a>\u001b[0m \u001b[39m# importing the libraries\u001b[39;00m\n\u001b[0;32m      <a href='vscode-notebook-cell:/d%3A/VDT2023/ProjectP1/FAS/fusion.ipynb#X14sZmlsZQ%3D%3D?line=1'>2</a>\u001b[0m \u001b[39mimport\u001b[39;00m \u001b[39mpandas\u001b[39;00m \u001b[39mas\u001b[39;00m \u001b[39mpd\u001b[39;00m\n\u001b[1;32m----> <a href='vscode-notebook-cell:/d%3A/VDT2023/ProjectP1/FAS/fusion.ipynb#X14sZmlsZQ%3D%3D?line=2'>3</a>\u001b[0m \u001b[39mfrom\u001b[39;00m \u001b[39mdataset\u001b[39;00m \u001b[39mimport\u001b[39;00m ImageFolder\n",
      "\u001b[1;31mImportError\u001b[0m: cannot import name 'ImageFolder' from 'dataset' (C:\\Users\\anhpn\\AppData\\Local\\Packages\\PythonSoftwareFoundation.Python.3.10_qbz5n2kfra8p0\\LocalCache\\local-packages\\Python310\\site-packages\\dataset\\__init__.py)"
     ]
    }
   ],
   "source": [
    "# importing the libraries\n",
    "import pandas as pd\n",
    "from dataset import ImageFolder"
   ]
  },
  {
   "cell_type": "code",
   "execution_count": null,
   "metadata": {},
   "outputs": [],
   "source": [
    "train_loader_list = {}\n",
    "test_loader_list = {}\n",
    "\n",
    "fold = 0\n",
    "train_df = pd.read_csv(\"convnext/code/data/train_fold{}.csv\".format(fold))\n",
    "val_df =  pd.read_csv(\"convnext/code/data/val_fold{}.csv\".format(fold))\n",
    "\n",
    "train_data_1 = ImageFolder(train_df, DATA_PATH, default_configs, {default_configs[\"image_size\"]: 9}, \"train\")\n",
    "\n",
    "\n"
   ]
  }
 ],
 "metadata": {
  "kernelspec": {
   "display_name": "Python 3",
   "language": "python",
   "name": "python3"
  },
  "language_info": {
   "codemirror_mode": {
    "name": "ipython",
    "version": 3
   },
   "file_extension": ".py",
   "mimetype": "text/x-python",
   "name": "python",
   "nbconvert_exporter": "python",
   "pygments_lexer": "ipython3",
   "version": "3.10.11"
  },
  "orig_nbformat": 4
 },
 "nbformat": 4,
 "nbformat_minor": 2
}
