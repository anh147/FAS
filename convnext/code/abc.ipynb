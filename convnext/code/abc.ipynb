{
 "cells": [
  {
   "cell_type": "code",
   "execution_count": 2,
   "metadata": {},
   "outputs": [],
   "source": [
    "# importing the libraries\n",
    "import pandas as pd\n",
    "from dataset import ImageFolder"
   ]
  },
  {
   "cell_type": "code",
   "execution_count": 9,
   "metadata": {},
   "outputs": [],
   "source": [
    "import os\n",
    "import json"
   ]
  },
  {
   "cell_type": "code",
   "execution_count": 10,
   "metadata": {},
   "outputs": [
    {
     "name": "stdout",
     "output_type": "stream",
     "text": [
      "{'a_name': 'exp_40', 'a_description': 'Final version, convnext base, img size 224', 'type': 'TEACHER', 'batch_size': 24, 'image_size': 224, 'num_workers': 4, 'n_frames': 1, 'n_eval': 5, 'accumulation_steps': 1, 'smoothing_value': 0.1, 'n_mul_dataset': 1, 'use_mixup': True, 'use_cutmix': False, 'use_gridmask': False, 'use_cutout': True, 'use_arcface': False, 'use_TTA': False, 'use_random_augment': False, 'only_augment_real': False, 'use_random_resize_crop': True, 'use_hsv': False, 'model_ema_decay': 0.99, 'start_ema_epoch': 0, 'crop_face': False, 'pseudo_label': False, 'lr': 0.00017015324133333334, 'num_epoch': 50, 'weight_decay': 0.02, 'mixup_alpha': 0.7, 'arcface_m': 0.5, 'arcface_s': 80, 'backbone': 'convnext_base_in22ft1k', 'optimizer': 'ADAN'}\n"
     ]
    }
   ],
   "source": [
    "f = open('configs/exp_40.json')\n",
    "default_configs = json.load(f)\n",
    "f.close()\n",
    "print(default_configs)"
   ]
  },
  {
   "cell_type": "code",
   "execution_count": 12,
   "metadata": {},
   "outputs": [
    {
     "ename": "NameError",
     "evalue": "name 'DATA_PATH' is not defined",
     "output_type": "error",
     "traceback": [
      "\u001b[1;31m---------------------------------------------------------------------------\u001b[0m",
      "\u001b[1;31mNameError\u001b[0m                                 Traceback (most recent call last)",
      "\u001b[1;32md:\\VDT2023\\ProjectP1\\FAS\\convnext\\code\\abc.ipynb Cell 4\u001b[0m in \u001b[0;36m<cell line: 8>\u001b[1;34m()\u001b[0m\n\u001b[0;32m      <a href='vscode-notebook-cell:/d%3A/VDT2023/ProjectP1/FAS/convnext/code/abc.ipynb#W1sZmlsZQ%3D%3D?line=4'>5</a>\u001b[0m train_df \u001b[39m=\u001b[39m pd\u001b[39m.\u001b[39mread_csv(\u001b[39m\"\u001b[39m\u001b[39mdata/train_fold\u001b[39m\u001b[39m{}\u001b[39;00m\u001b[39m.csv\u001b[39m\u001b[39m\"\u001b[39m\u001b[39m.\u001b[39mformat(fold))\n\u001b[0;32m      <a href='vscode-notebook-cell:/d%3A/VDT2023/ProjectP1/FAS/convnext/code/abc.ipynb#W1sZmlsZQ%3D%3D?line=5'>6</a>\u001b[0m val_df \u001b[39m=\u001b[39m  pd\u001b[39m.\u001b[39mread_csv(\u001b[39m\"\u001b[39m\u001b[39mdata/val_fold\u001b[39m\u001b[39m{}\u001b[39;00m\u001b[39m.csv\u001b[39m\u001b[39m\"\u001b[39m\u001b[39m.\u001b[39mformat(fold))\n\u001b[1;32m----> <a href='vscode-notebook-cell:/d%3A/VDT2023/ProjectP1/FAS/convnext/code/abc.ipynb#W1sZmlsZQ%3D%3D?line=7'>8</a>\u001b[0m train_data_1 \u001b[39m=\u001b[39m ImageFolder(train_df, DATA_PATH, default_configs, {default_configs[\u001b[39m\"\u001b[39m\u001b[39mimage_size\u001b[39m\u001b[39m\"\u001b[39m]: \u001b[39m9\u001b[39m}, \u001b[39m\"\u001b[39m\u001b[39mtrain\u001b[39m\u001b[39m\"\u001b[39m)\n",
      "\u001b[1;31mNameError\u001b[0m: name 'DATA_PATH' is not defined"
     ]
    }
   ],
   "source": [
    "train_loader_list = {}\n",
    "test_loader_list = {}\n",
    "DATA_PATH = \n",
    "fold = 0\n",
    "train_df = pd.read_csv(\"data/train_fold{}.csv\".format(fold))\n",
    "val_df =  pd.read_csv(\"data/val_fold{}.csv\".format(fold))\n",
    "\n",
    "train_data_1 = ImageFolder(train_df, DATA_PATH, default_configs, {default_configs[\"image_size\"]: 9}, \"train\")"
   ]
  },
  {
   "cell_type": "code",
   "execution_count": null,
   "metadata": {},
   "outputs": [],
   "source": []
  }
 ],
 "metadata": {
  "kernelspec": {
   "display_name": "Python 3",
   "language": "python",
   "name": "python3"
  },
  "language_info": {
   "codemirror_mode": {
    "name": "ipython",
    "version": 3
   },
   "file_extension": ".py",
   "mimetype": "text/x-python",
   "name": "python",
   "nbconvert_exporter": "python",
   "pygments_lexer": "ipython3",
   "version": "3.10.11"
  },
  "orig_nbformat": 4
 },
 "nbformat": 4,
 "nbformat_minor": 2
}
